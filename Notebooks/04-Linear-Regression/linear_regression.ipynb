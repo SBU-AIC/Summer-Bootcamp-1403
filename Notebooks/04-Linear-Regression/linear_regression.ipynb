{
  "nbformat": 4,
  "nbformat_minor": 0,
  "metadata": {
    "colab": {
      "provenance": []
    },
    "kernelspec": {
      "name": "python3",
      "display_name": "Python 3"
    }
  },
  "cells": [
    {
      "cell_type": "code",
      "metadata": {
        "id": "uw1OnWCzU7JP"
      },
      "source": [
        "import numpy as np\n",
        "import matplotlib.pyplot as plt\n",
        "import pandas as pd"
      ],
      "execution_count": 1,
      "outputs": []
    },
    {
      "cell_type": "code",
      "metadata": {
        "id": "cf11pD41YvE-"
      },
      "source": [
        "infections = [2, 5, 18, 28, 43, 61, 95, 139, 245, 388, 593, 978, 1501, 2336, 2922, 3513, 4747, 5823, 6566]"
      ],
      "execution_count": 3,
      "outputs": []
    },
    {
      "cell_type": "code",
      "metadata": {
        "id": "AQhkqbkoY1p0",
        "colab": {
          "base_uri": "https://localhost:8080/",
          "height": 447
        },
        "outputId": "5b09663d-7e75-45fe-a86a-5d875ca64580"
      },
      "source": [
        "x = range(len(infections))\n",
        "t = np.log(infections)\n",
        "plt.plot(x, t, 'o' , color='black')"
      ],
      "execution_count": 4,
      "outputs": [
        {
          "output_type": "execute_result",
          "data": {
            "text/plain": [
              "[<matplotlib.lines.Line2D at 0x7d1fff096770>]"
            ]
          },
          "metadata": {},
          "execution_count": 4
        },
        {
          "output_type": "display_data",
          "data": {
            "text/plain": [
              "<Figure size 640x480 with 1 Axes>"
            ],
            "image/png": "[encoded data removed]"
          },
          "metadata": {}
        }
      ]
    },
    {
      "cell_type": "markdown",
      "metadata": {
        "id": "pvq6oXHhw4g6"
      },
      "source": [
        "<p align=\"center\">In order to vectorize the derivation formula, we need to omit the for loop and see 't' and 'x' as a vector.</p>"
      ]
    },
    {
      "cell_type": "code",
      "metadata": {
        "id": "0i_TkvNPY6i-"
      },
      "source": [
        "def update(x, t, w, b, alpha):\n",
        "  N = len(x)\n",
        "  dedw = 0\n",
        "  dedb = 0\n",
        "  y = np.dot(w, x) + b\n",
        "  dedw = np.sum(np.multiply((y - t), x))\n",
        "  dedb = np.sum(y - t)\n",
        "  w = w - (alpha/float(N)) * dedw;\n",
        "  b = b - (alpha/float(N)) * dedb;\n",
        "  return w, b"
      ],
      "execution_count": 6,
      "outputs": []
    },
    {
      "cell_type": "code",
      "metadata": {
        "id": "cvqDyiXwY7JG"
      },
      "source": [
        "def train(x, t, w, b, alpha, epochs):\n",
        "  for e in range(epochs):\n",
        "    w, b = update(x, t, w, b, alpha)\n",
        "    if e % 1000 == 0 :\n",
        "      print(\"epoch \", e, \" loss: \", calc_cost(x, t, w, b))\n",
        "  return w, b\n"
      ],
      "execution_count": 11,
      "outputs": []
    },
    {
      "cell_type": "code",
      "metadata": {
        "id": "1lfCYgMuY_tf"
      },
      "source": [
        "def calc_cost(x, t, w, b):\n",
        "  N = len(x)\n",
        "  err = 0\n",
        "  y = np.dot(w, x) + b\n",
        "  err += np.sum(np.multiply((y - t),(y - t)))#(y - t)**2\n",
        "  return err/float(2*N)"
      ],
      "execution_count": 12,
      "outputs": []
    },
    {
      "cell_type": "code",
      "metadata": {
        "id": "8V3lQifzZBU-",
        "colab": {
          "base_uri": "https://localhost:8080/"
        },
        "outputId": "32555e2a-3687-498b-ee43-26242a96143e"
      },
      "source": [
        "w = 10\n",
        "b = 10\n",
        "alpha = 0.01\n",
        "epochs = 100000\n",
        "w, b = train(x, t, w, b, alpha, epochs)\n",
        "print(w, b)"
      ],
      "execution_count": 29,
      "outputs": [
        {
          "output_type": "stream",
          "name": "stdout",
          "text": [
            "epoch  0  loss:  87.45189870677237\n",
            "epoch  1000  loss:  0.12089837954019314\n",
            "epoch  2000  loss:  0.08715608811023937\n",
            "epoch  3000  loss:  0.08700017973204525\n",
            "epoch  4000  loss:  0.08699945934758535\n",
            "epoch  5000  loss:  0.0869994560190037\n",
            "epoch  6000  loss:  0.08699945600362369\n",
            "epoch  7000  loss:  0.08699945600355265\n",
            "epoch  8000  loss:  0.08699945600355233\n",
            "epoch  9000  loss:  0.08699945600355237\n",
            "epoch  10000  loss:  0.08699945600355229\n",
            "epoch  11000  loss:  0.08699945600355226\n",
            "epoch  12000  loss:  0.08699945600355226\n",
            "epoch  13000  loss:  0.08699945600355234\n",
            "epoch  14000  loss:  0.08699945600355234\n",
            "epoch  15000  loss:  0.08699945600355234\n",
            "epoch  16000  loss:  0.08699945600355234\n",
            "epoch  17000  loss:  0.08699945600355234\n",
            "epoch  18000  loss:  0.08699945600355234\n",
            "epoch  19000  loss:  0.08699945600355234\n",
            "epoch  20000  loss:  0.08699945600355234\n",
            "epoch  21000  loss:  0.08699945600355234\n",
            "epoch  22000  loss:  0.08699945600355234\n",
            "epoch  23000  loss:  0.08699945600355234\n",
            "epoch  24000  loss:  0.08699945600355234\n",
            "epoch  25000  loss:  0.08699945600355234\n",
            "epoch  26000  loss:  0.08699945600355234\n",
            "epoch  27000  loss:  0.08699945600355234\n",
            "epoch  28000  loss:  0.08699945600355234\n",
            "epoch  29000  loss:  0.08699945600355234\n",
            "epoch  30000  loss:  0.08699945600355234\n",
            "epoch  31000  loss:  0.08699945600355234\n",
            "epoch  32000  loss:  0.08699945600355234\n",
            "epoch  33000  loss:  0.08699945600355234\n",
            "epoch  34000  loss:  0.08699945600355234\n",
            "epoch  35000  loss:  0.08699945600355234\n",
            "epoch  36000  loss:  0.08699945600355234\n",
            "epoch  37000  loss:  0.08699945600355234\n",
            "epoch  38000  loss:  0.08699945600355234\n",
            "epoch  39000  loss:  0.08699945600355234\n",
            "epoch  40000  loss:  0.08699945600355234\n",
            "epoch  41000  loss:  0.08699945600355234\n",
            "epoch  42000  loss:  0.08699945600355234\n",
            "epoch  43000  loss:  0.08699945600355234\n",
            "epoch  44000  loss:  0.08699945600355234\n",
            "epoch  45000  loss:  0.08699945600355234\n",
            "epoch  46000  loss:  0.08699945600355234\n",
            "epoch  47000  loss:  0.08699945600355234\n",
            "epoch  48000  loss:  0.08699945600355234\n",
            "epoch  49000  loss:  0.08699945600355234\n",
            "epoch  50000  loss:  0.08699945600355234\n",
            "epoch  51000  loss:  0.08699945600355234\n",
            "epoch  52000  loss:  0.08699945600355234\n",
            "epoch  53000  loss:  0.08699945600355234\n",
            "epoch  54000  loss:  0.08699945600355234\n",
            "epoch  55000  loss:  0.08699945600355234\n",
            "epoch  56000  loss:  0.08699945600355234\n",
            "epoch  57000  loss:  0.08699945600355234\n",
            "epoch  58000  loss:  0.08699945600355234\n",
            "epoch  59000  loss:  0.08699945600355234\n",
            "epoch  60000  loss:  0.08699945600355234\n",
            "epoch  61000  loss:  0.08699945600355234\n",
            "epoch  62000  loss:  0.08699945600355234\n",
            "epoch  63000  loss:  0.08699945600355234\n",
            "epoch  64000  loss:  0.08699945600355234\n",
            "epoch  65000  loss:  0.08699945600355234\n",
            "epoch  66000  loss:  0.08699945600355234\n",
            "epoch  67000  loss:  0.08699945600355234\n",
            "epoch  68000  loss:  0.08699945600355234\n",
            "epoch  69000  loss:  0.08699945600355234\n",
            "epoch  70000  loss:  0.08699945600355234\n",
            "epoch  71000  loss:  0.08699945600355234\n",
            "epoch  72000  loss:  0.08699945600355234\n",
            "epoch  73000  loss:  0.08699945600355234\n",
            "epoch  74000  loss:  0.08699945600355234\n",
            "epoch  75000  loss:  0.08699945600355234\n",
            "epoch  76000  loss:  0.08699945600355234\n",
            "epoch  77000  loss:  0.08699945600355234\n",
            "epoch  78000  loss:  0.08699945600355234\n",
            "epoch  79000  loss:  0.08699945600355234\n",
            "epoch  80000  loss:  0.08699945600355234\n",
            "epoch  81000  loss:  0.08699945600355234\n",
            "epoch  82000  loss:  0.08699945600355234\n",
            "epoch  83000  loss:  0.08699945600355234\n",
            "epoch  84000  loss:  0.08699945600355234\n",
            "epoch  85000  loss:  0.08699945600355234\n",
            "epoch  86000  loss:  0.08699945600355234\n",
            "epoch  87000  loss:  0.08699945600355234\n",
            "epoch  88000  loss:  0.08699945600355234\n",
            "epoch  89000  loss:  0.08699945600355234\n",
            "epoch  90000  loss:  0.08699945600355234\n",
            "epoch  91000  loss:  0.08699945600355234\n",
            "epoch  92000  loss:  0.08699945600355234\n",
            "epoch  93000  loss:  0.08699945600355234\n",
            "epoch  94000  loss:  0.08699945600355234\n",
            "epoch  95000  loss:  0.08699945600355234\n",
            "epoch  96000  loss:  0.08699945600355234\n",
            "epoch  97000  loss:  0.08699945600355234\n",
            "epoch  98000  loss:  0.08699945600355234\n",
            "epoch  99000  loss:  0.08699945600355234\n",
            "0.43176758262177384 1.7855330350078404\n"
          ]
        }
      ]
    },
    {
      "cell_type": "code",
      "metadata": {
        "id": "JBnaVFjgzzB8",
        "colab": {
          "base_uri": "https://localhost:8080/",
          "height": 452
        },
        "outputId": "3154df44-8027-47e7-d9c3-e5f4cc542277"
      },
      "source": [
        "plt.plot(x, t, 'o', color='black')\n",
        "yy = np.dot(x, w) + b\n",
        "plt.plot(x, yy)"
      ],
      "execution_count": 27,
      "outputs": [
        {
          "output_type": "execute_result",
          "data": {
            "text/plain": [
              "[<matplotlib.lines.Line2D at 0x7d1ffcc6a080>]"
            ]
          },
          "metadata": {},
          "execution_count": 27
        },
        {
          "output_type": "display_data",
          "data": {
            "text/plain": [
              "<Figure size 640x480 with 1 Axes>"
            ],
            "image/png": "[encoded data removed]"
          },
          "metadata": {}
        }
      ]
    },
    {
      "cell_type": "code",
      "metadata": {
        "id": "S289dp5y0osi"
      },
      "source": [],
      "execution_count": 8,
      "outputs": []
    }
  ]
}