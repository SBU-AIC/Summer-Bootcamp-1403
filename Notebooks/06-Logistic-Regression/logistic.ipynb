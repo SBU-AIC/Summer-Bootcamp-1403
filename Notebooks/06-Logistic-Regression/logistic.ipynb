{
 "cells": [
  {
   "cell_type": "code",
   "execution_count": 70,
   "metadata": {},
   "outputs": [],
   "source": [
    "import numpy as np\n",
    "import matplotlib.pyplot as plt\n",
    "from sklearn.datasets import load_breast_cancer\n",
    "from sklearn.preprocessing import StandardScaler\n",
    "from sklearn.model_selection import train_test_split\n"
   ]
  },
  {
   "cell_type": "code",
   "execution_count": 71,
   "metadata": {},
   "outputs": [],
   "source": [
    "# Load the dataset\n",
    "data = load_breast_cancer()\n",
    "X, y = data.data, data.target"
   ]
  },
  {
   "cell_type": "code",
   "execution_count": 72,
   "metadata": {},
   "outputs": [],
   "source": [
    "X_train, X_test, y_train, y_test = train_test_split(X, y, test_size=0.2, random_state=42)"
   ]
  },
  {
   "cell_type": "code",
   "execution_count": 73,
   "metadata": {},
   "outputs": [
    {
     "data": {
      "text/plain": [
       "((455, 30), (455,), (114, 30), (114,))"
      ]
     },
     "execution_count": 73,
     "metadata": {},
     "output_type": "execute_result"
    }
   ],
   "source": [
    "X_train.shape , y_train.shape , X_test.shape , y_test.shape"
   ]
  },
  {
   "cell_type": "code",
   "execution_count": 74,
   "metadata": {},
   "outputs": [],
   "source": [
    "scaler = StandardScaler()\n",
    "X_train = scaler.fit_transform(X_train)\n",
    "X_test = scaler.transform(X_test)"
   ]
  },
  {
   "cell_type": "code",
   "execution_count": 75,
   "metadata": {},
   "outputs": [],
   "source": [
    "class LogisticRegression:\n",
    "    def __init__(self, learning_rate=0.01, n_iterations=1000):\n",
    "        self.learning_rate = learning_rate\n",
    "        self.n_iterations = n_iterations\n",
    "        self.weights = None\n",
    "        self.bias = None\n",
    "        self.eps = 1e-10\n",
    "        self.costs = []  # To store the cost at each iteration\n",
    "\n",
    "    def sigmoid(self, z):\n",
    "        \"\"\"Compute the sigmoid of z.\"\"\"\n",
    "        return 1 / (1 + np.exp(-z))\n",
    "\n",
    "    def compute_cost(self, y, y_predicted):\n",
    "        \"\"\"Compute the binary cross-entropy cost.\"\"\"\n",
    "        m = len(y)\n",
    "        cost = - (1 / m) * np.sum(y * np.log(y_predicted) + (1 - y) * np.log(1 - y_predicted))\n",
    "        return cost\n",
    "\n",
    "    def initialize_parameters(self, n_features):\n",
    "        \"\"\"Initialize weights and bias to zeros.\"\"\"\n",
    "        self.weights = np.zeros(n_features)\n",
    "        self.bias = 0\n",
    "\n",
    "    def update_step(self, X, y, y_predicted):\n",
    "        \"\"\"Perform a single update step of gradient descent.\"\"\"\n",
    "        n_samples = X.shape[0]\n",
    "\n",
    "        # Compute gradients\n",
    "        dw = (1 / n_samples) * np.dot(X.T, (y_predicted - y))\n",
    "        db = (1 / n_samples) * np.sum(y_predicted - y)\n",
    "\n",
    "        # Update weights and bias\n",
    "        self.weights -= self.learning_rate * dw\n",
    "        self.bias -= self.learning_rate * db\n",
    "\n",
    "    def fit(self, X, y):\n",
    "        \"\"\"Fit the model to the training data.\"\"\"\n",
    "        n_samples, n_features = X.shape\n",
    "        self.initialize_parameters(n_features)\n",
    "\n",
    "        for i in range(self.n_iterations):\n",
    "            # Compute linear model: z = Xw + b\n",
    "            linear_model = np.dot(X, self.weights) + self.bias\n",
    "            # Apply sigmoid function to get probabilities\n",
    "            y_predicted = self.sigmoid(linear_model)\n",
    "\n",
    "            # Compute the cost (log-loss) for this iteration\n",
    "            cost = self.compute_cost(y, y_predicted)\n",
    "            self.costs.append(cost)\n",
    "\n",
    "            # Update model parameters\n",
    "            self.update_step(X, y, y_predicted)\n",
    "\n",
    "            # Optional: print cost at intervals to monitor convergence\n",
    "            if i % 50 == 0:\n",
    "                print(f\"Iteration {i}: Cost {cost:.4f}\")\n",
    "\n",
    "    def predict(self, X):\n",
    "        \"\"\"Make predictions using the learned model.\"\"\"\n",
    "        linear_model = np.dot(X, self.weights) + self.bias\n",
    "        y_predicted = self.sigmoid(linear_model)\n",
    "        y_predicted_cls = [1 if i > 0.5 else 0 for i in y_predicted]\n",
    "        return np.array(y_predicted_cls)\n",
    "\n",
    "    def plot_cost(self):\n",
    "        \"\"\"Plot the cost function over iterations.\"\"\"\n",
    "        plt.plot(range(self.n_iterations), self.costs)\n",
    "        plt.xlabel(\"Number of Iterations\")\n",
    "        plt.ylabel(\"Cost (Log-Loss)\")\n",
    "        plt.title(\"Cost Reduction over Iterations\")\n",
    "        plt.show()\n"
   ]
  },
  {
   "cell_type": "code",
   "execution_count": 76,
   "metadata": {},
   "outputs": [
    {
     "name": "stdout",
     "output_type": "stream",
     "text": [
      "Iteration 0: Cost 0.6931\n",
      "Iteration 50: Cost 0.3352\n",
      "Iteration 100: Cost 0.2543\n",
      "Iteration 150: Cost 0.2155\n",
      "Iteration 200: Cost 0.1917\n",
      "Iteration 250: Cost 0.1754\n",
      "Iteration 300: Cost 0.1633\n",
      "Iteration 350: Cost 0.1540\n",
      "Iteration 400: Cost 0.1465\n",
      "Iteration 450: Cost 0.1403\n",
      "Iteration 500: Cost 0.1350\n",
      "Iteration 550: Cost 0.1306\n",
      "Iteration 600: Cost 0.1267\n",
      "Iteration 650: Cost 0.1232\n",
      "Iteration 700: Cost 0.1202\n",
      "Iteration 750: Cost 0.1174\n",
      "Iteration 800: Cost 0.1150\n",
      "Iteration 850: Cost 0.1127\n",
      "Iteration 900: Cost 0.1107\n",
      "Iteration 950: Cost 0.1088\n"
     ]
    },
    {
     "data": {
      "image/png": "[encoded data removed]",
      "text/plain": [
       "<Figure size 640x480 with 1 Axes>"
      ]
     },
     "metadata": {},
     "output_type": "display_data"
    },
    {
     "name": "stdout",
     "output_type": "stream",
     "text": [
      "Logistic Regression Accuracy: 98.25%\n"
     ]
    }
   ],
   "source": [
    "# Initialize and train logistic regression with cost tracking\n",
    "log_reg = LogisticRegression(learning_rate=0.01, n_iterations=1000)\n",
    "log_reg.fit(X_train, y_train)\n",
    "\n",
    "# Plot the cost over iterations\n",
    "log_reg.plot_cost()\n",
    "# Predict and evaluate the model\n",
    "y_pred_log_reg = log_reg.predict(X_test)\n",
    "accuracy_log_reg = np.mean(y_pred_log_reg == y_test)\n",
    "print(f\"Logistic Regression Accuracy: {accuracy_log_reg * 100:.2f}%\")\n"
   ]
  },
  {
   "cell_type": "code",
   "execution_count": null,
   "metadata": {},
   "outputs": [],
   "source": []
  },
  {
   "cell_type": "code",
   "execution_count": null,
   "metadata": {},
   "outputs": [],
   "source": []
  }
 ],
 "metadata": {
  "kernelspec": {
   "display_name": "Python 3",
   "language": "python",
   "name": "python3"
  },
  "language_info": {
   "codemirror_mode": {
    "name": "ipython",
    "version": 3
   },
   "file_extension": ".py",
   "mimetype": "text/x-python",
   "name": "python",
   "nbconvert_exporter": "python",
   "pygments_lexer": "ipython3",
   "version": "3.10.10"
  }
 },
 "nbformat": 4,
 "nbformat_minor": 2
}
